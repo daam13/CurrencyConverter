{
  "nbformat": 4,
  "nbformat_minor": 0,
  "metadata": {
    "colab": {
      "provenance": [],
      "authorship_tag": "ABX9TyOnLTcY6Zg0vAwXm6eVX/Ww",
      "include_colab_link": true
    },
    "kernelspec": {
      "name": "python3",
      "display_name": "Python 3"
    },
    "language_info": {
      "name": "python"
    }
  },
  "cells": [
    {
      "cell_type": "markdown",
      "metadata": {
        "id": "view-in-github",
        "colab_type": "text"
      },
      "source": [
        "<a href=\"https://colab.research.google.com/github/daam13/CurrencyConverter/blob/main/Tarea_1_Darla_Albornoz.ipynb\" target=\"_parent\"><img src=\"https://colab.research.google.com/assets/colab-badge.svg\" alt=\"Open In Colab\"/></a>"
      ]
    },
    {
      "cell_type": "markdown",
      "source": [
        "**Tarea #1**"
      ],
      "metadata": {
        "id": "myHCpy9W78Ds"
      }
    },
    {
      "cell_type": "markdown",
      "source": [
        "*Darla Albornoz Musa*"
      ],
      "metadata": {
        "id": "B8ixAX5p8ChU"
      }
    },
    {
      "cell_type": "markdown",
      "source": [
        "Bisiesto"
      ],
      "metadata": {
        "id": "uFpDkxrXG7uO"
      }
    },
    {
      "cell_type": "code",
      "source": [
        "# anio = int(input(\"Ingrese el año:\"))\n",
        "anio = 2020\n",
        "if (anio % 400 == 0 or anio % 4 and anio % 100 != 0):\n",
        "  print(\"El año es bisiesto.\")\n",
        "else:\n",
        "  print(\"El año no es bisiesto.\")"
      ],
      "metadata": {
        "colab": {
          "base_uri": "https://localhost:8080/"
        },
        "id": "26SQ8Srj7dQU",
        "outputId": "847dd117-1cec-4cbd-b784-5f4a66b7372f"
      },
      "execution_count": null,
      "outputs": [
        {
          "output_type": "stream",
          "name": "stdout",
          "text": [
            "El año no es bisiesto.\n"
          ]
        }
      ]
    },
    {
      "cell_type": "markdown",
      "source": [
        "Switch / Diccionarios"
      ],
      "metadata": {
        "id": "4YL77oG97ZE1"
      }
    },
    {
      "cell_type": "code",
      "source": [
        "switcher = {1:\"Enero\", 2:\"Febrero\", 3:\"Marzo\", 4:\"Abril\", 5:\"Mayo\", 6:\"Junio\", 7:\"Julio\", 8:\"Agosto\", 9:\"Septiembre\", 10:\"Octubre\", 11:\"Noviembre\", 12:\"Diciembre\"}\n",
        "# argument = int(input(\"Ingrese número:\"))\n",
        "argument = 13\n",
        "nomMes = switcher.get(argument, \"Mes inválido\")\n",
        "print(\"13 -> \", nomMes)\n",
        "argument = 3\n",
        "nomMes = switcher.get(argument, \"Mes inválido\")\n",
        "print(\"3 -> \", nomMes)"
      ],
      "metadata": {
        "id": "B-U2TDDX6SWP",
        "colab": {
          "base_uri": "https://localhost:8080/"
        },
        "outputId": "394b505c-5b2f-4c56-81be-e144762ed9a8"
      },
      "execution_count": null,
      "outputs": [
        {
          "output_type": "stream",
          "name": "stdout",
          "text": [
            "13 ->  Mes inválido\n",
            "3 ->  Marzo\n"
          ]
        }
      ]
    },
    {
      "cell_type": "markdown",
      "source": [
        "Monto, Capital e Interés"
      ],
      "metadata": {
        "id": "EHajNlN175tn"
      }
    },
    {
      "cell_type": "code",
      "source": [
        "C =-1\n",
        "I = 0\n",
        "M = 0\n",
        "while (C < 0) or (I <= 0) or (I >= 100) or (M <= 0):\n",
        "  print(\"Introduce el capital, el interés, y el tiempo apropiados:\")\n",
        "  C=int (input (\"Capital: \"))\n",
        "  I=int (input (\"Interés: \"))\n",
        "  M=int (input(\"Tiempo en Años: \"))\n",
        "\n",
        "for i in range(M):\n",
        "  C = C* (1 + I/100)\n",
        "  print(\"Monto\", C, \"colones\")"
      ],
      "metadata": {
        "colab": {
          "base_uri": "https://localhost:8080/"
        },
        "id": "TbYYacpHPYgo",
        "outputId": "35ca722e-4d54-4df6-f97c-04a4b19fe4dd"
      },
      "execution_count": null,
      "outputs": [
        {
          "output_type": "stream",
          "name": "stdout",
          "text": [
            "Introduce el capital, el interés, y el tiempo apropiados:\n",
            "Capital: 1000\n",
            "Interés: 10\n",
            "Tiempo en Años: 20\n",
            "Monto 1100.0 colones\n",
            "Monto 1210.0 colones\n",
            "Monto 1331.0 colones\n",
            "Monto 1464.1000000000001 colones\n",
            "Monto 1610.5100000000002 colones\n",
            "Monto 1771.5610000000004 colones\n",
            "Monto 1948.7171000000005 colones\n",
            "Monto 2143.5888100000006 colones\n",
            "Monto 2357.9476910000008 colones\n",
            "Monto 2593.742460100001 colones\n",
            "Monto 2853.1167061100014 colones\n",
            "Monto 3138.4283767210018 colones\n",
            "Monto 3452.271214393102 colones\n",
            "Monto 3797.4983358324125 colones\n",
            "Monto 4177.248169415654 colones\n",
            "Monto 4594.97298635722 colones\n",
            "Monto 5054.470284992943 colones\n",
            "Monto 5559.917313492238 colones\n",
            "Monto 6115.909044841462 colones\n",
            "Monto 6727.499949325608 colones\n"
          ]
        }
      ]
    },
    {
      "cell_type": "markdown",
      "source": [
        "Divisores"
      ],
      "metadata": {
        "id": "2kgWp30ZSRB7"
      }
    },
    {
      "cell_type": "code",
      "source": [
        "print(\"Digite un número\")\n",
        "numero = int (input (\"Número: \"))\n",
        "suma = 0\n",
        "\n",
        "# ciclo dentro de otro ciclo\n",
        "while numero > 0:\n",
        "  for i in range (1, numero+1):\n",
        "    if (numero % i == 0):\n",
        "      suma = suma + i\n",
        "\n",
        "  print(suma)\n",
        "  numero = int (input (\"Número: \"))"
      ],
      "metadata": {
        "colab": {
          "base_uri": "https://localhost:8080/"
        },
        "id": "WuHWloVeSRTB",
        "outputId": "fd16c170-ff34-412a-d722-1f87655a2607"
      },
      "execution_count": null,
      "outputs": [
        {
          "name": "stdout",
          "output_type": "stream",
          "text": [
            "Digite un número\n",
            "Número: 5\n",
            "6\n",
            "Número: 10\n",
            "24\n",
            "Número: -5\n"
          ]
        }
      ]
    },
    {
      "cell_type": "markdown",
      "source": [
        "Vector de temperaturas"
      ],
      "metadata": {
        "id": "GJuH1ZbATNSy"
      }
    },
    {
      "cell_type": "code",
      "source": [
        "v = [35, 34, 33, 32, 27, 25, 21]\n",
        "\n",
        "suma = 0\n",
        "for i in v:\n",
        "  suma += i\n",
        "\n",
        "print(\"Media: \", suma/len(v))"
      ],
      "metadata": {
        "colab": {
          "base_uri": "https://localhost:8080/"
        },
        "id": "gNfd8LH8S2CC",
        "outputId": "c2c93172-eacd-4d80-a737-8f528111ad44"
      },
      "execution_count": null,
      "outputs": [
        {
          "output_type": "stream",
          "name": "stdout",
          "text": [
            "Media:  29.571428571428573\n"
          ]
        }
      ]
    }
  ]
}