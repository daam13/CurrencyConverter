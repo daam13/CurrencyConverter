{
  "nbformat": 4,
  "nbformat_minor": 0,
  "metadata": {
    "colab": {
      "provenance": [],
      "authorship_tag": "ABX9TyOYXiHzaC36P7ByqkNBghLK",
      "include_colab_link": true
    },
    "kernelspec": {
      "name": "python3",
      "display_name": "Python 3"
    },
    "language_info": {
      "name": "python"
    }
  },
  "cells": [
    {
      "cell_type": "markdown",
      "metadata": {
        "id": "view-in-github",
        "colab_type": "text"
      },
      "source": [
        "<a href=\"https://colab.research.google.com/github/daam13/CurrencyConverter/blob/main/Laboratorio_3_CarlosAlbornoz.ipynb\" target=\"_parent\"><img src=\"https://colab.research.google.com/assets/colab-badge.svg\" alt=\"Open In Colab\"/></a>"
      ]
    },
    {
      "cell_type": "markdown",
      "source": [
        "# Ejemplo 1 de uso basico de Pandas"
      ],
      "metadata": {
        "id": "HM1ZBUFBW2QX"
      }
    },
    {
      "cell_type": "code",
      "execution_count": null,
      "metadata": {
        "colab": {
          "base_uri": "https://localhost:8080/"
        },
        "id": "5_oP8ia3VVWe",
        "outputId": "aae88636-a313-404e-9423-41f2719a2337"
      },
      "outputs": [
        {
          "output_type": "stream",
          "name": "stdout",
          "text": [
            "      Country    Capital  Population\n",
            "0  Costa Rica   San Jose     4500000\n",
            "1       India  New Delhi   133171035\n",
            "2      Brazil   Brasilia   207847528\n"
          ]
        }
      ],
      "source": [
        "import pandas as pd\n",
        "\n",
        "data = {\n",
        "    'Country': ['Costa Rica', 'India', 'Brazil'],\n",
        "    'Capital': ['San Jose', 'New Delhi', 'Brasilia'],\n",
        "    'Population': [4500000, 133171035, 207847528]\n",
        "}\n",
        "\n",
        "df = pd.DataFrame(data, columns=data.keys())\n",
        "print(df)"
      ]
    },
    {
      "cell_type": "markdown",
      "source": [
        "# Ejemplo 2 **Promedio de los elementos del vector**"
      ],
      "metadata": {
        "id": "Hzvw7y2eW2M1"
      }
    },
    {
      "cell_type": "code",
      "source": [
        "print('Promedio de los elementos del vector')\n",
        "Sum = 0\n",
        "Avg = 0\n",
        "Temp = []\n",
        "\n",
        "print('Ingrese cantidad de temperaturas')\n",
        "TempQtty = int(input())\n",
        "\n",
        "for i in range(TempQtty):\n",
        "  temperature = float(input('Ingrese una temperatura: '))\n",
        "  Temp.append(temperature)\n",
        "  Sum = Sum + Temp[i]\n",
        "\n",
        "Avg = Sum / len(Temp)\n",
        "print(Avg)"
      ],
      "metadata": {
        "colab": {
          "base_uri": "https://localhost:8080/"
        },
        "id": "hqqjgLzYXYTf",
        "outputId": "3245fa5c-2b8d-4839-b47b-ebe99977acf3"
      },
      "execution_count": null,
      "outputs": [
        {
          "output_type": "stream",
          "name": "stdout",
          "text": [
            "Promedio de los elementos del vector\n",
            "Ingrese cantidad de temperaturas\n",
            "5\n",
            "Ingrese una temperatura: 12\n",
            "Ingrese una temperatura: 51\n",
            "Ingrese una temperatura: 2121.2\n",
            "Ingrese una temperatura: 51\n",
            "Ingrese una temperatura: -518.2\n",
            "343.4\n"
          ]
        }
      ]
    },
    {
      "cell_type": "markdown",
      "source": [
        "# Ejemplo 2 - Consultas y ordenamientos"
      ],
      "metadata": {
        "id": "kw7ikwbXb4-y"
      }
    },
    {
      "cell_type": "code",
      "source": [
        "import pandas as pd\n",
        "\n",
        "pets = pd.DataFrame(\n",
        "    data = {\n",
        "        'name': ['Spelunky', 'Sasha', 'King', 'Flaffy', 'Blank'],\n",
        "        'type': ['cat', 'dog', 'dog', 'dog', 'Horse']\n",
        "    },\n",
        "    index = [71,42,11,98,42]\n",
        ")\n",
        "\n",
        "\n",
        "visits = pd.DataFrame(\n",
        "    data = {\n",
        "        'pet_id' : [42,31,71,42,98,42],\n",
        "        'date' : ['2019-03-15', '2019-03-15', '2019-04-05', '2019-04-05', '2019-04-12', '2019-05-01'],\n",
        "        'cost' : [2000, 5000, 1000, 5000, 6000, 10000]\n",
        "    }\n",
        ")\n",
        "\n",
        "pets.index.rename('pet_id', inplace=True)\n",
        "visits.index.rename('visit_id', inplace=True)\n",
        "\n",
        "# Queries by specific colums\n",
        "print(pets.query('pet_id==71'))\n",
        "\n",
        "\n",
        "# As well, some function are defined to execute common functions, like sums\n",
        "print(\"\\nMetrics: \")\n",
        "print('Sum: ',visits['cost'].sum())\n",
        "print('Minimum ammount: ', visits['cost'].min())\n",
        "print('Max Ammount', visits['cost'].max())\n",
        "\n",
        "\n",
        "# Sorting\n",
        "print('\\nWithout Sorting')\n",
        "print(visits)\n",
        "\n",
        "print('\\nSorted')\n",
        "print(visits.sort_values(by='cost', ascending=False))\n",
        "\n",
        "\n",
        "# Mergin dataframes, this generates a cartesian product\n",
        "petshop = pd.merge(pets, visits, how='cross')\n",
        "print('\\The PetShop')\n",
        "print(petshop)\n"
      ],
      "metadata": {
        "colab": {
          "base_uri": "https://localhost:8080/"
        },
        "id": "BwWhB7ZIb-IX",
        "outputId": "77d1a563-ed58-4f5d-e71f-e2cfd29cd86e"
      },
      "execution_count": null,
      "outputs": [
        {
          "output_type": "stream",
          "name": "stdout",
          "text": [
            "            name type\n",
            "pet_id               \n",
            "71      Spelunky  cat\n",
            "\n",
            "Metrics: \n",
            "Sum:  29000\n",
            "Minimum ammount:  1000\n",
            "Max Ammount 10000\n",
            "\n",
            "Without Sorting\n",
            "          pet_id        date   cost\n",
            "visit_id                           \n",
            "0             42  2019-03-15   2000\n",
            "1             31  2019-03-15   5000\n",
            "2             71  2019-04-05   1000\n",
            "3             42  2019-04-05   5000\n",
            "4             98  2019-04-12   6000\n",
            "5             42  2019-05-01  10000\n",
            "\n",
            "Sorted\n",
            "          pet_id        date   cost\n",
            "visit_id                           \n",
            "5             42  2019-05-01  10000\n",
            "4             98  2019-04-12   6000\n",
            "1             31  2019-03-15   5000\n",
            "3             42  2019-04-05   5000\n",
            "0             42  2019-03-15   2000\n",
            "2             71  2019-04-05   1000\n",
            "\\The PetShop\n",
            "        name   type  pet_id        date   cost\n",
            "0   Spelunky    cat      42  2019-03-15   2000\n",
            "1   Spelunky    cat      31  2019-03-15   5000\n",
            "2   Spelunky    cat      71  2019-04-05   1000\n",
            "3   Spelunky    cat      42  2019-04-05   5000\n",
            "4   Spelunky    cat      98  2019-04-12   6000\n",
            "5   Spelunky    cat      42  2019-05-01  10000\n",
            "6      Sasha    dog      42  2019-03-15   2000\n",
            "7      Sasha    dog      31  2019-03-15   5000\n",
            "8      Sasha    dog      71  2019-04-05   1000\n",
            "9      Sasha    dog      42  2019-04-05   5000\n",
            "10     Sasha    dog      98  2019-04-12   6000\n",
            "11     Sasha    dog      42  2019-05-01  10000\n",
            "12      King    dog      42  2019-03-15   2000\n",
            "13      King    dog      31  2019-03-15   5000\n",
            "14      King    dog      71  2019-04-05   1000\n",
            "15      King    dog      42  2019-04-05   5000\n",
            "16      King    dog      98  2019-04-12   6000\n",
            "17      King    dog      42  2019-05-01  10000\n",
            "18    Flaffy    dog      42  2019-03-15   2000\n",
            "19    Flaffy    dog      31  2019-03-15   5000\n",
            "20    Flaffy    dog      71  2019-04-05   1000\n",
            "21    Flaffy    dog      42  2019-04-05   5000\n",
            "22    Flaffy    dog      98  2019-04-12   6000\n",
            "23    Flaffy    dog      42  2019-05-01  10000\n",
            "24     Blank  Horse      42  2019-03-15   2000\n",
            "25     Blank  Horse      31  2019-03-15   5000\n",
            "26     Blank  Horse      71  2019-04-05   1000\n",
            "27     Blank  Horse      42  2019-04-05   5000\n",
            "28     Blank  Horse      98  2019-04-12   6000\n",
            "29     Blank  Horse      42  2019-05-01  10000\n"
          ]
        }
      ]
    },
    {
      "cell_type": "markdown",
      "source": [
        "# Laboratorio 3"
      ],
      "metadata": {
        "id": "SoGKYTPfk2Ds"
      }
    },
    {
      "cell_type": "code",
      "source": [
        "import pandas as pd\n",
        "\n",
        "# 1. Estructuras a utilizar\n",
        "\n",
        "students = [\n",
        "    ('Ana', 23, 'San Jose', 'A'),\n",
        "    ('Esteban', 22, 'Heredia', 'B'),\n",
        "    ('Juan', 22, 'Cartago', 'A'),\n",
        "    ('Karla', 22, 'Limon', 'A'),\n",
        "    ('Ernesto', 21, 'Heredia', 'B'),\n",
        "]\n",
        "\n",
        "df = pd.DataFrame(students, columns = ['Name', 'Age', 'City', 'Class'])\n",
        "\n",
        "# 2 Imprimir informacion\n",
        "print(df)\n",
        "\n",
        "\n",
        "# 3. Hacer una funcion para retornar todo el conjunto de datos de la informacion a buscar\n",
        "#    por ejemplo, si queremos retornar toda la informacion acerca de la edad de una persona"
      ],
      "metadata": {
        "colab": {
          "base_uri": "https://localhost:8080/"
        },
        "id": "nEr0PKBHmQ98",
        "outputId": "98b2c20f-fc6b-4234-a4ba-6d26d2e928d5"
      },
      "execution_count": null,
      "outputs": [
        {
          "output_type": "stream",
          "name": "stdout",
          "text": [
            "      Name  Age      City Class\n",
            "0      Ana   23  San Jose     A\n",
            "1  Esteban   22   Heredia     B\n",
            "2     Juan   22   Cartago     A\n",
            "3    Karla   22     Limon     A\n",
            "4  Ernesto   21   Heredia     B\n"
          ]
        }
      ]
    }
  ]
}